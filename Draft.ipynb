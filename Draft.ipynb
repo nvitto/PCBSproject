{
 "cells": [
  {
   "cell_type": "markdown",
   "metadata": {},
   "source": [
    "## C. Le modèle de Lotka-Volterra\n",
    "\n",
    "Le [modèle de Lokta-Volterra](https://fr.wikipedia.org/wiki/%C3%89quations_de_pr%C3%A9dation_de_Lotka-Volterra) permet de modéliser la dynamique de deux populations en interaction : une population de proies $N$ et une population de prédateurs $P$. \n",
    "\n",
    "On suppose que la population de proies a un taux de croissance intrinsèque $r$ indépendant des prédateurs, et un taux de mortalité dû à la rencontre avec des prédateurs qui est croissant de l'effectif de la population de prédateurs (coefficient $c$). On a donc : \n",
    "$$ \\frac{N'(t)}{N(t)} = r - cP(t) $$\n",
    "\n",
    "On suppose que la population de prédateurs a un taux de mortalité intrinsèque $m$ indépendant des proies, et un taux de croissance dû à la rencontre avec des proies qui est croissant de l'effectif de la population de proies (coefficient $b$). On a donc : \n",
    "$$ \\frac{P'(t)}{P(t)} =  bN(t) - m $$\n",
    "\n",
    "Donc, la situation peut être modélisée par le système suivant : \n",
    "$$ \\left\\{\n",
    "    \\begin{array}{ll}\n",
    "        N'(t) = rN(t) - cN(t)P(t) \\\\\n",
    "        P'(t) = bN(t)P(t) - mP(t)\n",
    "    \\end{array}\n",
    "\\right. $$\n",
    "\n",
    "On propose de résoudre ce modèle avec les coefficients suivants : $r = 3$ ; $c = 1$ ; $b = 1$% et $m = 0.5$%, soit \n",
    "$$ (5) \\left\\{\n",
    "    \\begin{array}{ll}\n",
    "        N'(t) = 3N(t) - 1N(t)P(t) \\\\\n",
    "        P'(t) = 1N(t)P(t) - 0.5P(t)\n",
    "    \\end{array}\n",
    "\\right. $$\n",
    "et ce pour les effectifs de population initaux suivant : $N(0) = 5$ et $P(0) = 2$ "
   ]
  },
  {
   "cell_type": "code",
   "execution_count": null,
   "metadata": {},
   "outputs": [],
   "source": [
    "##### Résolution du système (5) entre t = 0 et t = 50\n",
    "\n",
    "import matplotlib.pyplot as plt\n",
    "import numpy as np\n",
    "\n",
    "# On définit F telle que F(N(t), P(t), t) = (N'(t), P'(t))\n",
    "def F(N, P, t):\n",
    "    return [(3 * N) - (0.2 * N * P),        # La première ligne du système\n",
    "            (1 * N * P) - (0.5 * P)]      # La seconde ligne du système\n",
    "\n",
    "n = 5000                                 # Le nombre de points pour lesquels on calcule l'image par N et P\n",
    "dt =  0.01                                # La taille de l'intervalle entre deux points\n",
    "t_0, N_0, P_0 = 0, 10, 2                   # La condition initiale\n",
    "\n",
    "# On choisit les valeurs de t pour lesquelles on calcule N et P\n",
    "t = np.array([t_0 + k * dt for k in range(n)])\n",
    "\n",
    "# On calcule N et P pour ces valeurs de t\n",
    "N_list = [N_0]\n",
    "P_list = [P_0]\n",
    "\n",
    "for i in range(1,n):\n",
    "    N_list.append(N_list[-1] + dt * F(N_list[-1], P_list[-1], t[i-1])[0])\n",
    "    P_list.append(P_list[-1] + dt * F(N_list[-2], P_list[-1], t[i-1])[1])\n",
    "N = np.array(N_list)\n",
    "P = np.array(P_list)\n",
    "\n",
    "# On trace la courbe de la solution pour N\n",
    "plt.plot(t, N, color=\"blue\", label=\"Proies (N)\")\n",
    "\n",
    "# On trace la courbe de la solution pour P\n",
    "plt.plot(t, P, color=\"red\", label=\"Prédateurs (P)\")\n",
    "\n",
    "# On affiche la représentation graphique des solutions \n",
    "plt.title(\"Solutions du système (5)\")\n",
    "plt.xlabel(\"Temps t en années\")\n",
    "plt.ylabel (\"Effectif des populations\")\n",
    "plt.legend(title = \"Population de\", loc='upper right', bbox_to_anchor=(1.4, 1.1))\n",
    "plt.grid()\n",
    "plt.show()"
   ]
  }
 ],
 "metadata": {
  "kernelspec": {
   "display_name": "Python 3",
   "language": "python",
   "name": "python3"
  },
  "language_info": {
   "codemirror_mode": {
    "name": "ipython",
    "version": 3
   },
   "file_extension": ".py",
   "mimetype": "text/x-python",
   "name": "python",
   "nbconvert_exporter": "python",
   "pygments_lexer": "ipython3",
   "version": "3.7.4"
  }
 },
 "nbformat": 4,
 "nbformat_minor": 4
}
